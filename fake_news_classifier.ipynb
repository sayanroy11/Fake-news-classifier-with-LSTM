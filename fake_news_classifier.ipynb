{
 "cells": [
  {
   "cell_type": "code",
   "execution_count": 1,
   "metadata": {},
   "outputs": [],
   "source": [
    "import pandas as pd\n",
    "import tensorflow as tf"
   ]
  },
  {
   "cell_type": "code",
   "execution_count": 2,
   "metadata": {},
   "outputs": [
    {
     "data": {
      "text/html": [
       "<div>\n",
       "<style scoped>\n",
       "    .dataframe tbody tr th:only-of-type {\n",
       "        vertical-align: middle;\n",
       "    }\n",
       "\n",
       "    .dataframe tbody tr th {\n",
       "        vertical-align: top;\n",
       "    }\n",
       "\n",
       "    .dataframe thead th {\n",
       "        text-align: right;\n",
       "    }\n",
       "</style>\n",
       "<table border=\"1\" class=\"dataframe\">\n",
       "  <thead>\n",
       "    <tr style=\"text-align: right;\">\n",
       "      <th></th>\n",
       "      <th>id</th>\n",
       "      <th>title</th>\n",
       "      <th>author</th>\n",
       "      <th>text</th>\n",
       "      <th>label</th>\n",
       "    </tr>\n",
       "  </thead>\n",
       "  <tbody>\n",
       "    <tr>\n",
       "      <th>0</th>\n",
       "      <td>0</td>\n",
       "      <td>House Dem Aide: We Didn’t Even See Comey’s Let...</td>\n",
       "      <td>Darrell Lucus</td>\n",
       "      <td>House Dem Aide: We Didn’t Even See Comey’s Let...</td>\n",
       "      <td>1</td>\n",
       "    </tr>\n",
       "    <tr>\n",
       "      <th>1</th>\n",
       "      <td>1</td>\n",
       "      <td>FLYNN: Hillary Clinton, Big Woman on Campus - ...</td>\n",
       "      <td>Daniel J. Flynn</td>\n",
       "      <td>Ever get the feeling your life circles the rou...</td>\n",
       "      <td>0</td>\n",
       "    </tr>\n",
       "    <tr>\n",
       "      <th>2</th>\n",
       "      <td>2</td>\n",
       "      <td>Why the Truth Might Get You Fired</td>\n",
       "      <td>Consortiumnews.com</td>\n",
       "      <td>Why the Truth Might Get You Fired October 29, ...</td>\n",
       "      <td>1</td>\n",
       "    </tr>\n",
       "    <tr>\n",
       "      <th>3</th>\n",
       "      <td>3</td>\n",
       "      <td>15 Civilians Killed In Single US Airstrike Hav...</td>\n",
       "      <td>Jessica Purkiss</td>\n",
       "      <td>Videos 15 Civilians Killed In Single US Airstr...</td>\n",
       "      <td>1</td>\n",
       "    </tr>\n",
       "    <tr>\n",
       "      <th>4</th>\n",
       "      <td>4</td>\n",
       "      <td>Iranian woman jailed for fictional unpublished...</td>\n",
       "      <td>Howard Portnoy</td>\n",
       "      <td>Print \\nAn Iranian woman has been sentenced to...</td>\n",
       "      <td>1</td>\n",
       "    </tr>\n",
       "  </tbody>\n",
       "</table>\n",
       "</div>"
      ],
      "text/plain": [
       "   id                                              title              author  \\\n",
       "0   0  House Dem Aide: We Didn’t Even See Comey’s Let...       Darrell Lucus   \n",
       "1   1  FLYNN: Hillary Clinton, Big Woman on Campus - ...     Daniel J. Flynn   \n",
       "2   2                  Why the Truth Might Get You Fired  Consortiumnews.com   \n",
       "3   3  15 Civilians Killed In Single US Airstrike Hav...     Jessica Purkiss   \n",
       "4   4  Iranian woman jailed for fictional unpublished...      Howard Portnoy   \n",
       "\n",
       "                                                text  label  \n",
       "0  House Dem Aide: We Didn’t Even See Comey’s Let...      1  \n",
       "1  Ever get the feeling your life circles the rou...      0  \n",
       "2  Why the Truth Might Get You Fired October 29, ...      1  \n",
       "3  Videos 15 Civilians Killed In Single US Airstr...      1  \n",
       "4  Print \\nAn Iranian woman has been sentenced to...      1  "
      ]
     },
     "execution_count": 2,
     "metadata": {},
     "output_type": "execute_result"
    }
   ],
   "source": [
    "df=pd.read_csv(r'C:\\Users\\SAYAN ROY\\OneDrive\\Documents\\Datascience\\new datasets\\train.csv')\n",
    "df.head()"
   ]
  },
  {
   "cell_type": "code",
   "execution_count": 3,
   "metadata": {},
   "outputs": [],
   "source": [
    "df.dropna(inplace=True)"
   ]
  },
  {
   "cell_type": "code",
   "execution_count": 4,
   "metadata": {},
   "outputs": [],
   "source": [
    "X=df.drop('label',axis=1)\n",
    "y=df.label"
   ]
  },
  {
   "cell_type": "code",
   "execution_count": 5,
   "metadata": {},
   "outputs": [],
   "source": [
    "from tensorflow.keras.layers import Embedding\n",
    "from tensorflow.keras.models import Sequential\n",
    "from tensorflow.keras.layers import LSTM\n",
    "from tensorflow.keras.layers import Dropout\n",
    "from tensorflow.keras.preprocessing.text import one_hot\n",
    "from tensorflow.keras.preprocessing.sequence import pad_sequences\n",
    "from tensorflow.keras.layers import Dense "
   ]
  },
  {
   "cell_type": "code",
   "execution_count": 6,
   "metadata": {},
   "outputs": [],
   "source": [
    "voc_size=5000\n",
    "message=X.copy()\n",
    "message.reset_index(inplace=True)"
   ]
  },
  {
   "cell_type": "code",
   "execution_count": 7,
   "metadata": {},
   "outputs": [],
   "source": [
    "import re\n",
    "import nltk\n",
    "from nltk.corpus import stopwords\n",
    "from nltk.stem import PorterStemmer"
   ]
  },
  {
   "cell_type": "code",
   "execution_count": 8,
   "metadata": {},
   "outputs": [],
   "source": [
    "ps=PorterStemmer()\n",
    "corpus=[]\n",
    "for i in range(0,len(message)):\n",
    "    rev=re.sub('[^a-zA-Z]',' ',message['title'][i])\n",
    "    rev=rev.lower()\n",
    "    rev=rev.split()\n",
    "    rev=[ps.stem(word) for word in rev if not word in stopwords.words('english')]\n",
    "    rev=' '.join(rev)\n",
    "    corpus.append(rev)"
   ]
  },
  {
   "cell_type": "code",
   "execution_count": 9,
   "metadata": {},
   "outputs": [
    {
     "data": {
      "text/plain": [
       "[[3129, 3398, 1463, 74, 96, 3174, 3946, 2596, 305, 4517],\n",
       " [1700, 3904, 785, 745, 3574, 2342, 914],\n",
       " [1335, 1706, 480, 1136],\n",
       " [3783, 1096, 1004, 3133, 1468, 1327],\n",
       " [4555, 3574, 1383, 249, 1771, 3329, 3574, 1087, 4497, 3260]]"
      ]
     },
     "execution_count": 9,
     "metadata": {},
     "output_type": "execute_result"
    }
   ],
   "source": [
    "one_hot_rep = [one_hot(words,voc_size) for words in corpus]\n",
    "one_hot_rep[:5]"
   ]
  },
  {
   "cell_type": "code",
   "execution_count": 10,
   "metadata": {},
   "outputs": [
    {
     "data": {
      "text/plain": [
       "array([[   0,    0,    0,    0,    0,    0,    0,    0,    0,    0, 3129,\n",
       "        3398, 1463,   74,   96, 3174, 3946, 2596,  305, 4517],\n",
       "       [   0,    0,    0,    0,    0,    0,    0,    0,    0,    0,    0,\n",
       "           0,    0, 1700, 3904,  785,  745, 3574, 2342,  914],\n",
       "       [   0,    0,    0,    0,    0,    0,    0,    0,    0,    0,    0,\n",
       "           0,    0,    0,    0,    0, 1335, 1706,  480, 1136],\n",
       "       [   0,    0,    0,    0,    0,    0,    0,    0,    0,    0,    0,\n",
       "           0,    0,    0, 3783, 1096, 1004, 3133, 1468, 1327]])"
      ]
     },
     "execution_count": 10,
     "metadata": {},
     "output_type": "execute_result"
    }
   ],
   "source": [
    "max_len=20\n",
    "embedded_doc=pad_sequences(one_hot_rep,padding='pre',maxlen=max_len)\n",
    "embedded_doc[:4]"
   ]
  },
  {
   "cell_type": "code",
   "execution_count": 11,
   "metadata": {},
   "outputs": [],
   "source": [
    "embedding_vector=40\n",
    "model=Sequential()\n",
    "model.add(Embedding(voc_size,embedding_vector,input_length=max_len))\n",
    "model.add(Dropout(0.3))\n",
    "model.add(LSTM(100))\n",
    "model.add(Dense(1,activation='sigmoid'))\n",
    "model.compile(loss='binary_crossentropy',optimizer='adam',metrics=['accuracy'])"
   ]
  },
  {
   "cell_type": "code",
   "execution_count": 12,
   "metadata": {},
   "outputs": [],
   "source": [
    "import numpy as np\n",
    "X_final=np.array(embedded_doc)\n",
    "y_final=np.array(y)"
   ]
  },
  {
   "cell_type": "code",
   "execution_count": 13,
   "metadata": {},
   "outputs": [],
   "source": [
    "from sklearn.model_selection import train_test_split\n",
    "X_train,X_test,y_train,y_test = train_test_split(X_final,y_final,test_size=0.3,random_state=42)"
   ]
  },
  {
   "cell_type": "code",
   "execution_count": 14,
   "metadata": {},
   "outputs": [
    {
     "name": "stdout",
     "output_type": "stream",
     "text": [
      "Epoch 1/100\n",
      "400/400 [==============================] - 9s 15ms/step - loss: 0.2700 - accuracy: 0.8786 - val_loss: 0.1937 - val_accuracy: 0.9185\n",
      "Epoch 2/100\n",
      "400/400 [==============================] - 6s 14ms/step - loss: 0.1396 - accuracy: 0.9453 - val_loss: 0.1950 - val_accuracy: 0.9185\n",
      "Epoch 3/100\n",
      "400/400 [==============================] - 6s 14ms/step - loss: 0.1000 - accuracy: 0.9642 - val_loss: 0.2287 - val_accuracy: 0.9216\n",
      "Epoch 4/100\n",
      "400/400 [==============================] - 6s 14ms/step - loss: 0.0697 - accuracy: 0.9745 - val_loss: 0.2365 - val_accuracy: 0.9182\n",
      "Epoch 5/100\n",
      "400/400 [==============================] - 6s 14ms/step - loss: 0.0502 - accuracy: 0.9827 - val_loss: 0.2729 - val_accuracy: 0.9149\n",
      "Epoch 6/100\n",
      "400/400 [==============================] - 6s 14ms/step - loss: 0.0353 - accuracy: 0.9884 - val_loss: 0.3228 - val_accuracy: 0.9100\n",
      "Epoch 7/100\n",
      "400/400 [==============================] - 5s 13ms/step - loss: 0.0265 - accuracy: 0.9916 - val_loss: 0.3652 - val_accuracy: 0.9149\n",
      "Epoch 8/100\n",
      "400/400 [==============================] - 6s 14ms/step - loss: 0.0215 - accuracy: 0.9930 - val_loss: 0.3918 - val_accuracy: 0.9154\n",
      "Epoch 9/100\n",
      "400/400 [==============================] - 5s 14ms/step - loss: 0.0155 - accuracy: 0.9948 - val_loss: 0.4280 - val_accuracy: 0.9114\n",
      "Epoch 10/100\n",
      "400/400 [==============================] - 6s 14ms/step - loss: 0.0149 - accuracy: 0.9951 - val_loss: 0.4029 - val_accuracy: 0.9131\n",
      "Epoch 11/100\n",
      "400/400 [==============================] - 6s 15ms/step - loss: 0.0116 - accuracy: 0.9960 - val_loss: 0.5175 - val_accuracy: 0.9083\n",
      "Epoch 12/100\n",
      "400/400 [==============================] - 6s 14ms/step - loss: 0.0141 - accuracy: 0.9957 - val_loss: 0.4381 - val_accuracy: 0.9087\n",
      "Epoch 13/100\n",
      "400/400 [==============================] - 6s 15ms/step - loss: 0.0085 - accuracy: 0.9973 - val_loss: 0.5114 - val_accuracy: 0.9118\n",
      "Epoch 14/100\n",
      "400/400 [==============================] - 6s 14ms/step - loss: 0.0077 - accuracy: 0.9976 - val_loss: 0.5456 - val_accuracy: 0.9147\n",
      "Epoch 15/100\n",
      "400/400 [==============================] - 6s 15ms/step - loss: 0.0053 - accuracy: 0.9980 - val_loss: 0.6162 - val_accuracy: 0.9121\n",
      "Epoch 16/100\n",
      "400/400 [==============================] - 6s 15ms/step - loss: 0.0070 - accuracy: 0.9977 - val_loss: 0.5894 - val_accuracy: 0.8988\n",
      "Epoch 17/100\n",
      "400/400 [==============================] - 6s 14ms/step - loss: 0.0081 - accuracy: 0.9973 - val_loss: 0.5831 - val_accuracy: 0.9132\n",
      "Epoch 18/100\n",
      "400/400 [==============================] - 6s 14ms/step - loss: 0.0042 - accuracy: 0.9987 - val_loss: 0.6226 - val_accuracy: 0.9151\n",
      "Epoch 19/100\n",
      "400/400 [==============================] - 6s 16ms/step - loss: 0.0057 - accuracy: 0.9983 - val_loss: 0.6199 - val_accuracy: 0.9065\n",
      "Epoch 20/100\n",
      "400/400 [==============================] - 6s 15ms/step - loss: 0.0046 - accuracy: 0.9988 - val_loss: 0.6722 - val_accuracy: 0.9067\n",
      "Epoch 21/100\n",
      "400/400 [==============================] - 6s 14ms/step - loss: 0.0020 - accuracy: 0.9995 - val_loss: 0.6943 - val_accuracy: 0.9096\n",
      "Epoch 22/100\n",
      "400/400 [==============================] - 6s 14ms/step - loss: 0.0024 - accuracy: 0.9993 - val_loss: 0.6893 - val_accuracy: 0.9083\n",
      "Epoch 23/100\n",
      "400/400 [==============================] - 6s 14ms/step - loss: 0.0043 - accuracy: 0.9989 - val_loss: 0.6540 - val_accuracy: 0.9090\n",
      "Epoch 24/100\n",
      "400/400 [==============================] - 6s 14ms/step - loss: 0.0032 - accuracy: 0.9988 - val_loss: 0.6674 - val_accuracy: 0.9059\n",
      "Epoch 25/100\n",
      "400/400 [==============================] - 6s 14ms/step - loss: 0.0030 - accuracy: 0.9989 - val_loss: 0.6736 - val_accuracy: 0.9085\n",
      "Epoch 26/100\n",
      "400/400 [==============================] - 6s 14ms/step - loss: 0.0032 - accuracy: 0.9985 - val_loss: 0.6644 - val_accuracy: 0.9069\n",
      "Epoch 27/100\n",
      "400/400 [==============================] - 5s 14ms/step - loss: 0.0031 - accuracy: 0.9991 - val_loss: 0.6660 - val_accuracy: 0.9125\n",
      "Epoch 28/100\n",
      "400/400 [==============================] - 6s 14ms/step - loss: 0.0015 - accuracy: 0.9996 - val_loss: 0.6672 - val_accuracy: 0.9098\n",
      "Epoch 29/100\n",
      "400/400 [==============================] - 6s 14ms/step - loss: 0.0024 - accuracy: 0.9994 - val_loss: 0.7031 - val_accuracy: 0.9059\n",
      "Epoch 30/100\n",
      "400/400 [==============================] - 6s 14ms/step - loss: 0.0027 - accuracy: 0.9987 - val_loss: 0.6559 - val_accuracy: 0.9063\n",
      "Epoch 31/100\n",
      "400/400 [==============================] - 6s 14ms/step - loss: 0.0039 - accuracy: 0.9987 - val_loss: 0.6708 - val_accuracy: 0.9109\n",
      "Epoch 32/100\n",
      "400/400 [==============================] - 6s 14ms/step - loss: 0.0030 - accuracy: 0.9991 - val_loss: 0.7182 - val_accuracy: 0.9121\n",
      "Epoch 33/100\n",
      "400/400 [==============================] - 6s 15ms/step - loss: 5.1616e-04 - accuracy: 0.9999 - val_loss: 0.7645 - val_accuracy: 0.9132\n",
      "Epoch 34/100\n",
      "400/400 [==============================] - 6s 15ms/step - loss: 0.0011 - accuracy: 0.9997 - val_loss: 0.7682 - val_accuracy: 0.9105\n",
      "Epoch 35/100\n",
      "400/400 [==============================] - 6s 14ms/step - loss: 0.0018 - accuracy: 0.9992 - val_loss: 0.7938 - val_accuracy: 0.9085\n",
      "Epoch 36/100\n",
      "400/400 [==============================] - 6s 15ms/step - loss: 0.0032 - accuracy: 0.9992 - val_loss: 0.6698 - val_accuracy: 0.9100\n",
      "Epoch 37/100\n",
      "400/400 [==============================] - 6s 14ms/step - loss: 7.0600e-04 - accuracy: 0.9998 - val_loss: 0.7008 - val_accuracy: 0.9123\n",
      "Epoch 38/100\n",
      "400/400 [==============================] - 5s 13ms/step - loss: 5.1788e-04 - accuracy: 0.9999 - val_loss: 0.7673 - val_accuracy: 0.9103\n",
      "Epoch 39/100\n",
      "400/400 [==============================] - 6s 15ms/step - loss: 5.3216e-04 - accuracy: 0.9998 - val_loss: 0.7969 - val_accuracy: 0.9070\n",
      "Epoch 40/100\n",
      "400/400 [==============================] - 6s 14ms/step - loss: 0.0024 - accuracy: 0.9991 - val_loss: 0.6760 - val_accuracy: 0.9116\n",
      "Epoch 41/100\n",
      "400/400 [==============================] - 6s 15ms/step - loss: 0.0022 - accuracy: 0.9992 - val_loss: 0.8302 - val_accuracy: 0.9083\n",
      "Epoch 42/100\n",
      "400/400 [==============================] - 6s 14ms/step - loss: 0.0017 - accuracy: 0.9995 - val_loss: 0.7684 - val_accuracy: 0.9076\n",
      "Epoch 43/100\n",
      "400/400 [==============================] - 6s 15ms/step - loss: 0.0013 - accuracy: 0.9998 - val_loss: 0.7724 - val_accuracy: 0.9107\n",
      "Epoch 44/100\n",
      "400/400 [==============================] - 6s 14ms/step - loss: 8.9838e-04 - accuracy: 0.9997 - val_loss: 0.8240 - val_accuracy: 0.9096\n",
      "Epoch 45/100\n",
      "400/400 [==============================] - 6s 15ms/step - loss: 0.0012 - accuracy: 0.9995 - val_loss: 0.7852 - val_accuracy: 0.9100\n",
      "Epoch 46/100\n",
      "400/400 [==============================] - 5s 13ms/step - loss: 0.0026 - accuracy: 0.9991 - val_loss: 0.7608 - val_accuracy: 0.9120\n",
      "Epoch 47/100\n",
      "400/400 [==============================] - 5s 14ms/step - loss: 4.2217e-04 - accuracy: 0.9999 - val_loss: 0.7558 - val_accuracy: 0.9136\n",
      "Epoch 48/100\n",
      "400/400 [==============================] - 5s 14ms/step - loss: 0.0012 - accuracy: 0.9997 - val_loss: 0.7813 - val_accuracy: 0.9121\n",
      "Epoch 49/100\n",
      "400/400 [==============================] - 5s 13ms/step - loss: 8.1906e-04 - accuracy: 0.9998 - val_loss: 0.7881 - val_accuracy: 0.9123\n",
      "Epoch 50/100\n",
      "400/400 [==============================] - 6s 14ms/step - loss: 5.3591e-04 - accuracy: 0.9999 - val_loss: 0.8058 - val_accuracy: 0.9110\n",
      "Epoch 51/100\n",
      "400/400 [==============================] - 5s 14ms/step - loss: 0.0027 - accuracy: 0.9994 - val_loss: 0.7066 - val_accuracy: 0.9149\n",
      "Epoch 52/100\n",
      "400/400 [==============================] - 5s 14ms/step - loss: 0.0016 - accuracy: 0.9992 - val_loss: 0.7391 - val_accuracy: 0.9127\n",
      "Epoch 53/100\n",
      "400/400 [==============================] - 5s 13ms/step - loss: 0.0011 - accuracy: 0.9997 - val_loss: 0.7257 - val_accuracy: 0.9109\n",
      "Epoch 54/100\n",
      "400/400 [==============================] - 6s 14ms/step - loss: 0.0011 - accuracy: 0.9996 - val_loss: 0.6774 - val_accuracy: 0.9123\n",
      "Epoch 55/100\n",
      "400/400 [==============================] - 5s 14ms/step - loss: 0.0013 - accuracy: 0.9995 - val_loss: 0.7200 - val_accuracy: 0.9094\n",
      "Epoch 56/100\n",
      "400/400 [==============================] - 6s 14ms/step - loss: 5.3560e-04 - accuracy: 0.9998 - val_loss: 0.7205 - val_accuracy: 0.9136\n",
      "Epoch 57/100\n",
      "400/400 [==============================] - 6s 14ms/step - loss: 5.3996e-04 - accuracy: 0.9998 - val_loss: 0.7219 - val_accuracy: 0.9103\n",
      "Epoch 58/100\n",
      "400/400 [==============================] - 5s 13ms/step - loss: 8.2461e-04 - accuracy: 0.9998 - val_loss: 0.7498 - val_accuracy: 0.9132\n",
      "Epoch 59/100\n",
      "400/400 [==============================] - 5s 14ms/step - loss: 3.8964e-04 - accuracy: 0.9999 - val_loss: 0.7942 - val_accuracy: 0.9114\n",
      "Epoch 60/100\n",
      "400/400 [==============================] - 6s 14ms/step - loss: 2.1232e-04 - accuracy: 1.0000 - val_loss: 0.7535 - val_accuracy: 0.9132\n",
      "Epoch 61/100\n",
      "400/400 [==============================] - 6s 14ms/step - loss: 2.4950e-04 - accuracy: 0.9999 - val_loss: 0.8388 - val_accuracy: 0.9147\n",
      "Epoch 62/100\n",
      "400/400 [==============================] - 6s 14ms/step - loss: 4.0707e-05 - accuracy: 1.0000 - val_loss: 0.8134 - val_accuracy: 0.9156\n",
      "Epoch 63/100\n",
      "400/400 [==============================] - 6s 14ms/step - loss: 0.0011 - accuracy: 0.9998 - val_loss: 0.7811 - val_accuracy: 0.9129\n",
      "Epoch 64/100\n",
      "400/400 [==============================] - 6s 14ms/step - loss: 2.0148e-04 - accuracy: 0.9999 - val_loss: 0.8584 - val_accuracy: 0.9118\n",
      "Epoch 65/100\n",
      "400/400 [==============================] - 6s 14ms/step - loss: 0.0019 - accuracy: 0.9995 - val_loss: 0.7829 - val_accuracy: 0.9107\n",
      "Epoch 66/100\n",
      "400/400 [==============================] - 6s 14ms/step - loss: 7.6777e-04 - accuracy: 0.9998 - val_loss: 0.9804 - val_accuracy: 0.9072\n",
      "Epoch 67/100\n",
      "400/400 [==============================] - 6s 14ms/step - loss: 6.7157e-04 - accuracy: 0.9998 - val_loss: 0.8289 - val_accuracy: 0.9087\n",
      "Epoch 68/100\n",
      "400/400 [==============================] - 5s 14ms/step - loss: 0.0013 - accuracy: 0.9996 - val_loss: 0.9495 - val_accuracy: 0.9039\n",
      "Epoch 69/100\n",
      "400/400 [==============================] - 6s 14ms/step - loss: 8.4397e-04 - accuracy: 0.9998 - val_loss: 0.8956 - val_accuracy: 0.9065\n",
      "Epoch 70/100\n",
      "400/400 [==============================] - 6s 14ms/step - loss: 7.3712e-04 - accuracy: 0.9997 - val_loss: 0.8640 - val_accuracy: 0.9127\n",
      "Epoch 71/100\n",
      "400/400 [==============================] - 5s 14ms/step - loss: 2.8898e-04 - accuracy: 0.9999 - val_loss: 0.9457 - val_accuracy: 0.9043\n",
      "Epoch 72/100\n",
      "400/400 [==============================] - 5s 13ms/step - loss: 6.0555e-04 - accuracy: 0.9998 - val_loss: 0.8464 - val_accuracy: 0.9103\n",
      "Epoch 73/100\n",
      "400/400 [==============================] - 5s 14ms/step - loss: 7.0215e-04 - accuracy: 0.9998 - val_loss: 0.9043 - val_accuracy: 0.9103\n",
      "Epoch 74/100\n",
      "400/400 [==============================] - 5s 14ms/step - loss: 5.6039e-04 - accuracy: 0.9998 - val_loss: 0.8940 - val_accuracy: 0.9089\n",
      "Epoch 75/100\n",
      "400/400 [==============================] - 5s 13ms/step - loss: 6.4810e-04 - accuracy: 0.9998 - val_loss: 0.8462 - val_accuracy: 0.9100\n",
      "Epoch 76/100\n",
      "400/400 [==============================] - 5s 13ms/step - loss: 0.0016 - accuracy: 0.9996 - val_loss: 0.7833 - val_accuracy: 0.9076\n",
      "Epoch 77/100\n",
      "400/400 [==============================] - 5s 14ms/step - loss: 3.8561e-04 - accuracy: 0.9999 - val_loss: 0.8374 - val_accuracy: 0.9105\n",
      "Epoch 78/100\n",
      "400/400 [==============================] - 6s 15ms/step - loss: 4.4504e-04 - accuracy: 0.9998 - val_loss: 0.8535 - val_accuracy: 0.9109\n",
      "Epoch 79/100\n",
      "400/400 [==============================] - 6s 15ms/step - loss: 3.3532e-04 - accuracy: 0.9999 - val_loss: 0.8271 - val_accuracy: 0.9094\n",
      "Epoch 80/100\n",
      "400/400 [==============================] - 6s 15ms/step - loss: 0.0014 - accuracy: 0.9994 - val_loss: 0.8344 - val_accuracy: 0.9098\n",
      "Epoch 81/100\n",
      "400/400 [==============================] - 6s 14ms/step - loss: 2.3157e-04 - accuracy: 0.9999 - val_loss: 0.8766 - val_accuracy: 0.9114\n",
      "Epoch 82/100\n",
      "400/400 [==============================] - 6s 14ms/step - loss: 7.9820e-04 - accuracy: 0.9997 - val_loss: 0.9091 - val_accuracy: 0.9067\n",
      "Epoch 83/100\n",
      "400/400 [==============================] - 6s 14ms/step - loss: 0.0010 - accuracy: 0.9998 - val_loss: 0.7690 - val_accuracy: 0.9094\n",
      "Epoch 84/100\n",
      "400/400 [==============================] - 5s 14ms/step - loss: 7.9358e-05 - accuracy: 1.0000 - val_loss: 0.8025 - val_accuracy: 0.9107\n",
      "Epoch 85/100\n",
      "400/400 [==============================] - 6s 14ms/step - loss: 5.1696e-04 - accuracy: 0.9998 - val_loss: 0.8197 - val_accuracy: 0.9087\n",
      "Epoch 86/100\n",
      "400/400 [==============================] - 6s 16ms/step - loss: 9.4447e-05 - accuracy: 1.0000 - val_loss: 0.8479 - val_accuracy: 0.9087\n",
      "Epoch 87/100\n",
      "400/400 [==============================] - 6s 16ms/step - loss: 0.0022 - accuracy: 0.9994 - val_loss: 0.7707 - val_accuracy: 0.9100\n",
      "Epoch 88/100\n",
      "400/400 [==============================] - 6s 15ms/step - loss: 0.0023 - accuracy: 0.9993 - val_loss: 0.7578 - val_accuracy: 0.9085\n",
      "Epoch 89/100\n",
      "400/400 [==============================] - 6s 15ms/step - loss: 0.0013 - accuracy: 0.9998 - val_loss: 0.7217 - val_accuracy: 0.9112\n",
      "Epoch 90/100\n",
      "400/400 [==============================] - 7s 16ms/step - loss: 5.7988e-04 - accuracy: 0.9998 - val_loss: 0.7394 - val_accuracy: 0.9098\n",
      "Epoch 91/100\n",
      "400/400 [==============================] - 6s 16ms/step - loss: 5.5982e-04 - accuracy: 0.9998 - val_loss: 0.7888 - val_accuracy: 0.9096\n",
      "Epoch 92/100\n",
      "400/400 [==============================] - 6s 16ms/step - loss: 8.8092e-05 - accuracy: 1.0000 - val_loss: 0.7841 - val_accuracy: 0.9116\n",
      "Epoch 93/100\n",
      "400/400 [==============================] - 6s 14ms/step - loss: 2.8124e-04 - accuracy: 0.9998 - val_loss: 0.8172 - val_accuracy: 0.9107\n",
      "Epoch 94/100\n",
      "400/400 [==============================] - 6s 14ms/step - loss: 4.6490e-05 - accuracy: 1.0000 - val_loss: 0.8414 - val_accuracy: 0.9112\n",
      "Epoch 95/100\n",
      "400/400 [==============================] - 6s 15ms/step - loss: 1.5648e-05 - accuracy: 1.0000 - val_loss: 0.8427 - val_accuracy: 0.9131\n",
      "Epoch 96/100\n",
      "400/400 [==============================] - 6s 16ms/step - loss: 4.5456e-05 - accuracy: 1.0000 - val_loss: 0.8550 - val_accuracy: 0.9141\n",
      "Epoch 97/100\n",
      "400/400 [==============================] - 7s 18ms/step - loss: 1.0623e-04 - accuracy: 1.0000 - val_loss: 0.8020 - val_accuracy: 0.9145\n",
      "Epoch 98/100\n",
      "400/400 [==============================] - 6s 16ms/step - loss: 2.5918e-04 - accuracy: 0.9999 - val_loss: 0.8547 - val_accuracy: 0.9123\n",
      "Epoch 99/100\n",
      "400/400 [==============================] - 6s 14ms/step - loss: 5.5539e-04 - accuracy: 0.9998 - val_loss: 0.9248 - val_accuracy: 0.9103\n",
      "Epoch 100/100\n",
      "400/400 [==============================] - 6s 14ms/step - loss: 8.3655e-05 - accuracy: 1.0000 - val_loss: 0.9022 - val_accuracy: 0.9134\n"
     ]
    },
    {
     "data": {
      "text/plain": [
       "<keras.callbacks.History at 0x2166e98c880>"
      ]
     },
     "execution_count": 14,
     "metadata": {},
     "output_type": "execute_result"
    }
   ],
   "source": [
    "model.fit(X_train,y_train,validation_data=(X_test,y_test),epochs=100,batch_size=32)"
   ]
  },
  {
   "cell_type": "code",
   "execution_count": 22,
   "metadata": {},
   "outputs": [
    {
     "name": "stdout",
     "output_type": "stream",
     "text": [
      "172/172 [==============================] - 1s 4ms/step\n"
     ]
    }
   ],
   "source": [
    "thrs=0.5\n",
    "y_pred=(model.predict(X_test) > thrs).astype(int)"
   ]
  },
  {
   "cell_type": "code",
   "execution_count": 23,
   "metadata": {},
   "outputs": [
    {
     "name": "stdout",
     "output_type": "stream",
     "text": [
      "[[2828  279]\n",
      " [ 196 2183]]\n",
      "0.9134159679183376\n"
     ]
    }
   ],
   "source": [
    "from sklearn.metrics import confusion_matrix,accuracy_score\n",
    "print(confusion_matrix(y_test,y_pred))\n",
    "print(accuracy_score(y_test,y_pred))"
   ]
  }
 ],
 "metadata": {
  "kernelspec": {
   "display_name": "Python 3",
   "language": "python",
   "name": "python3"
  },
  "language_info": {
   "codemirror_mode": {
    "name": "ipython",
    "version": 3
   },
   "file_extension": ".py",
   "mimetype": "text/x-python",
   "name": "python",
   "nbconvert_exporter": "python",
   "pygments_lexer": "ipython3",
   "version": "3.10.13"
  }
 },
 "nbformat": 4,
 "nbformat_minor": 2
}
